{
 "cells": [
  {
   "cell_type": "code",
   "execution_count": 23,
   "metadata": {},
   "outputs": [],
   "source": [
    "import pandas as pd \n",
    "import numpy as np\n",
    "import seaborn as sns\n",
    "import matplotlib.pyplot as plt\n",
    "from sklearn.model_selection import train_test_split\n",
    "from sklearn.linear_model import LogisticRegression\n",
    "from sklearn.metrics import confusion_matrix, precision_score, recall_score, f1_score\n",
    "from sklearn.metrics import roc_curve, auc\n",
    "from sklearn.metrics import precision_recall_curve"
   ]
  },
  {
   "cell_type": "code",
   "execution_count": 9,
   "metadata": {},
   "outputs": [
    {
     "name": "stdout",
     "output_type": "stream",
     "text": [
      "<class 'pandas.core.frame.DataFrame'>\n",
      "RangeIndex: 10000 entries, 0 to 9999\n",
      "Data columns (total 14 columns):\n",
      " #   Column              Non-Null Count  Dtype  \n",
      "---  ------              --------------  -----  \n",
      " 0   Balance             10000 non-null  float64\n",
      " 1   NumOfProducts       10000 non-null  int64  \n",
      " 2   Tenure              10000 non-null  int64  \n",
      " 3   Exited              10000 non-null  int64  \n",
      " 4   CreditScore         10000 non-null  int64  \n",
      " 5   Age                 10000 non-null  float64\n",
      " 6   EstimatedSalary     10000 non-null  float64\n",
      " 7   HasCrCard_Yes       10000 non-null  bool   \n",
      " 8   IsActiveMember_Yes  10000 non-null  bool   \n",
      " 9   Geography_Germany   10000 non-null  bool   \n",
      " 10  Geography_Spain     10000 non-null  bool   \n",
      " 11  Gender_Male         10000 non-null  bool   \n",
      " 12  Balance_v_Salary    10000 non-null  float64\n",
      " 13  Income_v_Products   10000 non-null  float64\n",
      "dtypes: bool(5), float64(5), int64(4)\n",
      "memory usage: 752.1 KB\n"
     ]
    }
   ],
   "source": [
    "modeling_df = pd.read_csv(\"Bank Customer Churn Data/Prepared Data/obj5_bank_churn_df.csv\",\n",
    "                            encoding=\"ISO-8859-1\",\n",
    "                            low_memory=False).drop(\"Unnamed: 0\", axis = 1)\n",
    "modeling_df.info() "
   ]
  },
  {
   "cell_type": "code",
   "execution_count": 10,
   "metadata": {},
   "outputs": [
    {
     "data": {
      "text/html": [
       "<div>\n",
       "<style scoped>\n",
       "    .dataframe tbody tr th:only-of-type {\n",
       "        vertical-align: middle;\n",
       "    }\n",
       "\n",
       "    .dataframe tbody tr th {\n",
       "        vertical-align: top;\n",
       "    }\n",
       "\n",
       "    .dataframe thead th {\n",
       "        text-align: right;\n",
       "    }\n",
       "</style>\n",
       "<table border=\"1\" class=\"dataframe\">\n",
       "  <thead>\n",
       "    <tr style=\"text-align: right;\">\n",
       "      <th></th>\n",
       "      <th>Balance</th>\n",
       "      <th>NumOfProducts</th>\n",
       "      <th>Tenure</th>\n",
       "      <th>Exited</th>\n",
       "      <th>CreditScore</th>\n",
       "      <th>Age</th>\n",
       "      <th>EstimatedSalary</th>\n",
       "      <th>Balance_v_Salary</th>\n",
       "      <th>Income_v_Products</th>\n",
       "    </tr>\n",
       "  </thead>\n",
       "  <tbody>\n",
       "    <tr>\n",
       "      <th>count</th>\n",
       "      <td>10000.000000</td>\n",
       "      <td>10000.000000</td>\n",
       "      <td>10000.000000</td>\n",
       "      <td>10000.000000</td>\n",
       "      <td>10000.000000</td>\n",
       "      <td>10000.000000</td>\n",
       "      <td>10000.000000</td>\n",
       "      <td>10000.000000</td>\n",
       "      <td>10000.000000</td>\n",
       "    </tr>\n",
       "    <tr>\n",
       "      <th>mean</th>\n",
       "      <td>76485.889288</td>\n",
       "      <td>1.530200</td>\n",
       "      <td>5.012800</td>\n",
       "      <td>0.203700</td>\n",
       "      <td>650.528800</td>\n",
       "      <td>38.921500</td>\n",
       "      <td>100092.252506</td>\n",
       "      <td>3.878703</td>\n",
       "      <td>74717.170627</td>\n",
       "    </tr>\n",
       "    <tr>\n",
       "      <th>std</th>\n",
       "      <td>62397.405202</td>\n",
       "      <td>0.581654</td>\n",
       "      <td>2.892174</td>\n",
       "      <td>0.402769</td>\n",
       "      <td>96.653299</td>\n",
       "      <td>10.487552</td>\n",
       "      <td>57510.146401</td>\n",
       "      <td>108.337260</td>\n",
       "      <td>52059.497823</td>\n",
       "    </tr>\n",
       "    <tr>\n",
       "      <th>min</th>\n",
       "      <td>0.000000</td>\n",
       "      <td>1.000000</td>\n",
       "      <td>0.000000</td>\n",
       "      <td>0.000000</td>\n",
       "      <td>350.000000</td>\n",
       "      <td>18.000000</td>\n",
       "      <td>11.580000</td>\n",
       "      <td>0.000000</td>\n",
       "      <td>11.580000</td>\n",
       "    </tr>\n",
       "    <tr>\n",
       "      <th>25%</th>\n",
       "      <td>0.000000</td>\n",
       "      <td>1.000000</td>\n",
       "      <td>3.000000</td>\n",
       "      <td>0.000000</td>\n",
       "      <td>584.000000</td>\n",
       "      <td>32.000000</td>\n",
       "      <td>51002.110000</td>\n",
       "      <td>0.000000</td>\n",
       "      <td>32589.780000</td>\n",
       "    </tr>\n",
       "    <tr>\n",
       "      <th>50%</th>\n",
       "      <td>97198.540000</td>\n",
       "      <td>1.000000</td>\n",
       "      <td>5.000000</td>\n",
       "      <td>0.000000</td>\n",
       "      <td>652.000000</td>\n",
       "      <td>37.000000</td>\n",
       "      <td>100196.062500</td>\n",
       "      <td>0.747002</td>\n",
       "      <td>65908.002500</td>\n",
       "    </tr>\n",
       "    <tr>\n",
       "      <th>75%</th>\n",
       "      <td>127644.240000</td>\n",
       "      <td>2.000000</td>\n",
       "      <td>7.000000</td>\n",
       "      <td>0.000000</td>\n",
       "      <td>718.000000</td>\n",
       "      <td>44.000000</td>\n",
       "      <td>149388.247500</td>\n",
       "      <td>1.514022</td>\n",
       "      <td>100943.797500</td>\n",
       "    </tr>\n",
       "    <tr>\n",
       "      <th>max</th>\n",
       "      <td>250898.090000</td>\n",
       "      <td>4.000000</td>\n",
       "      <td>10.000000</td>\n",
       "      <td>1.000000</td>\n",
       "      <td>850.000000</td>\n",
       "      <td>92.000000</td>\n",
       "      <td>199992.480000</td>\n",
       "      <td>10614.655440</td>\n",
       "      <td>199970.740000</td>\n",
       "    </tr>\n",
       "  </tbody>\n",
       "</table>\n",
       "</div>"
      ],
      "text/plain": [
       "             Balance  NumOfProducts        Tenure        Exited   CreditScore  \\\n",
       "count   10000.000000   10000.000000  10000.000000  10000.000000  10000.000000   \n",
       "mean    76485.889288       1.530200      5.012800      0.203700    650.528800   \n",
       "std     62397.405202       0.581654      2.892174      0.402769     96.653299   \n",
       "min         0.000000       1.000000      0.000000      0.000000    350.000000   \n",
       "25%         0.000000       1.000000      3.000000      0.000000    584.000000   \n",
       "50%     97198.540000       1.000000      5.000000      0.000000    652.000000   \n",
       "75%    127644.240000       2.000000      7.000000      0.000000    718.000000   \n",
       "max    250898.090000       4.000000     10.000000      1.000000    850.000000   \n",
       "\n",
       "                Age  EstimatedSalary  Balance_v_Salary  Income_v_Products  \n",
       "count  10000.000000     10000.000000      10000.000000       10000.000000  \n",
       "mean      38.921500    100092.252506          3.878703       74717.170627  \n",
       "std       10.487552     57510.146401        108.337260       52059.497823  \n",
       "min       18.000000        11.580000          0.000000          11.580000  \n",
       "25%       32.000000     51002.110000          0.000000       32589.780000  \n",
       "50%       37.000000    100196.062500          0.747002       65908.002500  \n",
       "75%       44.000000    149388.247500          1.514022      100943.797500  \n",
       "max       92.000000    199992.480000      10614.655440      199970.740000  "
      ]
     },
     "execution_count": 10,
     "metadata": {},
     "output_type": "execute_result"
    }
   ],
   "source": [
    "modeling_df.describe()"
   ]
  },
  {
   "cell_type": "code",
   "execution_count": 11,
   "metadata": {},
   "outputs": [
    {
     "name": "stdout",
     "output_type": "stream",
     "text": [
      "<class 'pandas.core.frame.DataFrame'>\n",
      "Index: 8000 entries, 8276 to 7816\n",
      "Data columns (total 13 columns):\n",
      " #   Column              Non-Null Count  Dtype  \n",
      "---  ------              --------------  -----  \n",
      " 0   Balance             8000 non-null   float64\n",
      " 1   NumOfProducts       8000 non-null   int64  \n",
      " 2   Tenure              8000 non-null   int64  \n",
      " 3   CreditScore         8000 non-null   int64  \n",
      " 4   Age                 8000 non-null   float64\n",
      " 5   EstimatedSalary     8000 non-null   float64\n",
      " 6   HasCrCard_Yes       8000 non-null   bool   \n",
      " 7   IsActiveMember_Yes  8000 non-null   bool   \n",
      " 8   Geography_Germany   8000 non-null   bool   \n",
      " 9   Geography_Spain     8000 non-null   bool   \n",
      " 10  Gender_Male         8000 non-null   bool   \n",
      " 11  Balance_v_Salary    8000 non-null   float64\n",
      " 12  Income_v_Products   8000 non-null   float64\n",
      "dtypes: bool(5), float64(5), int64(3)\n",
      "memory usage: 601.6 KB\n"
     ]
    }
   ],
   "source": [
    "X = modeling_df.drop([\"Exited\"],axis=1)\n",
    "y = modeling_df[\"Exited\"]\n",
    "\n",
    "X_train, X_test, y_train, y_test = train_test_split(X, y, test_size= 0.2, random_state = 2024)\n",
    "\n",
    "X_train.info()"
   ]
  },
  {
   "cell_type": "code",
   "execution_count": 12,
   "metadata": {},
   "outputs": [
    {
     "name": "stdout",
     "output_type": "stream",
     "text": [
      "Train Accuracy: 0.790125\n"
     ]
    }
   ],
   "source": [
    "logreg = LogisticRegression(max_iter = 100000)\n",
    "lr = logreg.fit(X_train, y_train)\n",
    "print(f\"Train Accuracy: {lr.score(X_train, y_train)}\")"
   ]
  },
  {
   "cell_type": "code",
   "execution_count": 13,
   "metadata": {},
   "outputs": [
    {
     "data": {
      "text/plain": [
       "array([[6203,  169],\n",
       "       [1510,  118]])"
      ]
     },
     "execution_count": 13,
     "metadata": {},
     "output_type": "execute_result"
    }
   ],
   "source": [
    "confusion_matrix(y_train, lr.predict(X_train))"
   ]
  },
  {
   "cell_type": "code",
   "execution_count": 14,
   "metadata": {},
   "outputs": [
    {
     "data": {
      "text/plain": [
       "0.07248157248157248"
      ]
     },
     "execution_count": 14,
     "metadata": {},
     "output_type": "execute_result"
    }
   ],
   "source": [
    "recall_score(y_train,lr.predict(X_train))"
   ]
  },
  {
   "cell_type": "code",
   "execution_count": 15,
   "metadata": {},
   "outputs": [
    {
     "data": {
      "text/plain": [
       "[('Balance', 2.70546692449172e-06),\n",
       " ('NumOfProducts', 0.0003975005544583435),\n",
       " ('Tenure', -0.002755975872677881),\n",
       " ('CreditScore', -0.004997862934873304),\n",
       " ('Age', 0.04548179596253706),\n",
       " ('EstimatedSalary', -8.2720738980115e-06),\n",
       " ('HasCrCard_Yes', -0.0024377480396645546),\n",
       " ('IsActiveMember_Yes', -0.0024377480396645546),\n",
       " ('Geography_Germany', 0.0016210312596434285),\n",
       " ('Geography_Spain', -0.0006143444130815711),\n",
       " ('Gender_Male', -0.0016502174627312392),\n",
       " ('Balance_v_Salary', 0.00041117013480164774),\n",
       " ('Income_v_Products', 8.580514006646727e-06)]"
      ]
     },
     "execution_count": 15,
     "metadata": {},
     "output_type": "execute_result"
    }
   ],
   "source": [
    "list(zip(X_train,lr.coef_[0]))"
   ]
  },
  {
   "cell_type": "code",
   "execution_count": 16,
   "metadata": {},
   "outputs": [
    {
     "data": {
      "text/plain": [
       "array([[1557,   34],\n",
       "       [ 383,   26]])"
      ]
     },
     "execution_count": 16,
     "metadata": {},
     "output_type": "execute_result"
    }
   ],
   "source": [
    "confusion_matrix(y_test, lr.predict(X_test))"
   ]
  },
  {
   "cell_type": "code",
   "execution_count": 17,
   "metadata": {},
   "outputs": [
    {
     "name": "stdout",
     "output_type": "stream",
     "text": [
      "Train Accuracy: 0.7915\n"
     ]
    }
   ],
   "source": [
    "print(f\"Train Accuracy: {lr.score(X_test, y_test)}\")"
   ]
  },
  {
   "cell_type": "code",
   "execution_count": 18,
   "metadata": {},
   "outputs": [
    {
     "name": "stdout",
     "output_type": "stream",
     "text": [
      "Model Evaluation Metrics:\n",
      "Precision: 0.43\n",
      "Recall: 0.06\n",
      "F1 Score: 0.11\n"
     ]
    }
   ],
   "source": [
    "precision = precision_score(y_test, lr.predict(X_test))\n",
    "recall = recall_score(y_test, lr.predict(X_test))\n",
    "f1 = f1_score(y_test, lr.predict(X_test))\n",
    "\n",
    "print(f\"Model Evaluation Metrics:\\n\"\n",
    "      f\"Precision: {precision:.2f}\\n\"\n",
    "      f\"Recall: {recall:.2f}\\n\"\n",
    "      f\"F1 Score: {f1:.2f}\")"
   ]
  },
  {
   "cell_type": "code",
   "execution_count": 22,
   "metadata": {},
   "outputs": [
    {
     "data": {
      "image/png": "[encoded data removed]",
      "text/plain": [
       "<Figure size 640x480 with 1 Axes>"
      ]
     },
     "metadata": {},
     "output_type": "display_data"
    }
   ],
   "source": [
    "y_probs = lr.predict_proba(X_test)[:, 1]\n",
    "fpr1, tpr1, thresholds = roc_curve(y_test, y_probs)\n",
    "auc_score1 = auc(fpr1,tpr1)\n",
    "\n",
    "# Plot the ROC curve\n",
    "plt.plot(fpr1, tpri, label=f'LR (AUC = {auc_score1: .2f})')\n",
    "# Draw Random Guess\n",
    "plt.plot([0, 1], [0, 1], 'k--', label='Random Guess (AUC = 0.50)')\n",
    "# Modify Formatting\n",
    "plt.xlabel('False Positive Rate') \n",
    "plt.ylabel('True Positive Rate')\n",
    "plt.title('ROC Curves for Different Models' )\n",
    "plt.legend()\n",
    "plt.show()"
   ]
  },
  {
   "cell_type": "code",
   "execution_count": 25,
   "metadata": {},
   "outputs": [
    {
     "data": {
      "image/png": "[encoded data removed]",
      "text/plain": [
       "<Figure size 640x480 with 1 Axes>"
      ]
     },
     "metadata": {},
     "output_type": "display_data"
    }
   ],
   "source": [
    "p_curve, r_curve, t_curve = precision_recall_curve(y_train, lr.predict_proba(X_train)[:,1])\n",
    "plt.plot(t_curve, p_curve[:-1], label='Precision')\n",
    "plt.plot(t_curve, r_curve[:-1], label='Recall')\n",
    "plt.xlabel('Prediction Threshold' )\n",
    "plt.ylabel('Scores')\n",
    "plt.legend()\n",
    "plt.title('Precision & Recall Curves')\n",
    "plt.show()"
   ]
  },
  {
   "cell_type": "code",
   "execution_count": 26,
   "metadata": {},
   "outputs": [
    {
     "data": {
      "text/plain": [
       "(array([7995, 7997, 7998, 7999, 8000]),)"
      ]
     },
     "execution_count": 26,
     "metadata": {},
     "output_type": "execute_result"
    }
   ],
   "source": [
    "np.where(p_curve>0.5)"
   ]
  },
  {
   "cell_type": "code",
   "execution_count": 27,
   "metadata": {},
   "outputs": [
    {
     "data": {
      "text/plain": [
       "0.789664435543582"
      ]
     },
     "execution_count": 27,
     "metadata": {},
     "output_type": "execute_result"
    }
   ],
   "source": [
    "t_curve[7995]"
   ]
  },
  {
   "cell_type": "code",
   "execution_count": 31,
   "metadata": {},
   "outputs": [
    {
     "data": {
      "text/plain": [
       "array([[1591,    0],\n",
       "       [ 409,    0]])"
      ]
     },
     "execution_count": 35,
     "metadata": {},
     "output_type": "execute_result"
    }
   ],
   "source": [
    "confusion_matrix(y_test, lr.predict_log_proba(X_test)[:,1] > 0.789664435543582)"
   ]
  },
  {
   "cell_type": "code",
   "execution_count": 32,
   "metadata": {},
   "outputs": [
    {
     "name": "stderr",
     "output_type": "stream",
     "text": [
      "/Library/Frameworks/Python.framework/Versions/3.11/lib/python3.11/site-packages/sklearn/metrics/_classification.py:1469: UndefinedMetricWarning: Precision is ill-defined and being set to 0.0 due to no predicted samples. Use `zero_division` parameter to control this behavior.\n",
      "  _warn_prf(average, modifier, msg_start, len(result))\n"
     ]
    },
    {
     "data": {
      "text/plain": [
       "0.0"
      ]
     },
     "execution_count": 34,
     "metadata": {},
     "output_type": "execute_result"
    }
   ],
   "source": [
    "precision_score(y_test, lr.predict_log_proba(X_test)[:,1] > 0.789664435543582)"
   ]
  }
 ],
 "metadata": {
  "kernelspec": {
   "display_name": "Python 3",
   "language": "python",
   "name": "python3"
  },
  "language_info": {
   "codemirror_mode": {
    "name": "ipython",
    "version": 3
   },
   "file_extension": ".py",
   "mimetype": "text/x-python",
   "name": "python",
   "nbconvert_exporter": "python",
   "pygments_lexer": "ipython3",
   "version": "3.11.4"
  }
 },
 "nbformat": 4,
 "nbformat_minor": 2
}
