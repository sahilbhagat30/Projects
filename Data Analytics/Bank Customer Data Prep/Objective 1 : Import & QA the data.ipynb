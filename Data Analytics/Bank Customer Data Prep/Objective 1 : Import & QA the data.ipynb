{
 "cells": [
  {
   "cell_type": "code",
   "execution_count": 1,
   "metadata": {},
   "outputs": [],
   "source": [
    "import pandas as pd"
   ]
  },
  {
   "cell_type": "code",
   "execution_count": 2,
   "metadata": {},
   "outputs": [
    {
     "name": "stdout",
     "output_type": "stream",
     "text": [
      "<class 'pandas.core.frame.DataFrame'>\n",
      "RangeIndex: 10002 entries, 0 to 10001\n",
      "Data columns (total 7 columns):\n",
      " #   Column          Non-Null Count  Dtype \n",
      "---  ------          --------------  ----- \n",
      " 0   CustomerId      10002 non-null  int64 \n",
      " 1   Balance         10002 non-null  object\n",
      " 2   NumOfProducts   10002 non-null  int64 \n",
      " 3   HasCrCard       10002 non-null  object\n",
      " 4   Tenure          10002 non-null  int64 \n",
      " 5   IsActiveMember  10002 non-null  object\n",
      " 6   Exited          10002 non-null  int64 \n",
      "dtypes: int64(4), object(3)\n",
      "memory usage: 547.1+ KB\n"
     ]
    }
   ],
   "source": [
    "bank_churn_messy_account_info = pd.read_excel(\"Bank Customer Churn Data/Bank_Churn_Messy.xlsx\",\n",
    "                                 sheet_name=1)\n",
    "bank_churn_messy_account_info.info()"
   ]
  },
  {
   "cell_type": "code",
   "execution_count": 3,
   "metadata": {},
   "outputs": [
    {
     "name": "stdout",
     "output_type": "stream",
     "text": [
      "<class 'pandas.core.frame.DataFrame'>\n",
      "RangeIndex: 10001 entries, 0 to 10000\n",
      "Data columns (total 8 columns):\n",
      " #   Column           Non-Null Count  Dtype  \n",
      "---  ------           --------------  -----  \n",
      " 0   CustomerId       10001 non-null  int64  \n",
      " 1   Surname          9998 non-null   object \n",
      " 2   CreditScore      10001 non-null  int64  \n",
      " 3   Geography        10001 non-null  object \n",
      " 4   Gender           10001 non-null  object \n",
      " 5   Age              9998 non-null   float64\n",
      " 6   Tenure           10001 non-null  int64  \n",
      " 7   EstimatedSalary  10001 non-null  object \n",
      "dtypes: float64(1), int64(3), object(4)\n",
      "memory usage: 625.2+ KB\n"
     ]
    }
   ],
   "source": [
    "bank_churn_messy_customer_info = pd.read_excel(\"Bank Customer Churn Data/Bank_Churn_Messy.xlsx\",\n",
    "                                 sheet_name=0)\n",
    "bank_churn_messy_customer_info.info()"
   ]
  },
  {
   "cell_type": "code",
   "execution_count": 4,
   "metadata": {},
   "outputs": [
    {
     "name": "stdout",
     "output_type": "stream",
     "text": [
      "<class 'pandas.core.frame.DataFrame'>\n",
      "RangeIndex: 10004 entries, 0 to 10003\n",
      "Data columns (total 14 columns):\n",
      " #   Column           Non-Null Count  Dtype  \n",
      "---  ------           --------------  -----  \n",
      " 0   CustomerId       10004 non-null  int64  \n",
      " 1   Balance          10004 non-null  object \n",
      " 2   NumOfProducts    10004 non-null  int64  \n",
      " 3   HasCrCard        10004 non-null  object \n",
      " 4   Tenure_x         10004 non-null  int64  \n",
      " 5   IsActiveMember   10004 non-null  object \n",
      " 6   Exited           10004 non-null  int64  \n",
      " 7   Surname          10001 non-null  object \n",
      " 8   CreditScore      10004 non-null  int64  \n",
      " 9   Geography        10004 non-null  object \n",
      " 10  Gender           10004 non-null  object \n",
      " 11  Age              10001 non-null  float64\n",
      " 12  Tenure_y         10004 non-null  int64  \n",
      " 13  EstimatedSalary  10004 non-null  object \n",
      "dtypes: float64(1), int64(6), object(7)\n",
      "memory usage: 1.1+ MB\n"
     ]
    }
   ],
   "source": [
    "bank_churn_df = bank_churn_messy_account_info.merge(bank_churn_messy_customer_info,\n",
    "                                    how='left',\n",
    "                                    on='CustomerId')\n",
    "bank_churn_df.info()"
   ]
  },
  {
   "cell_type": "code",
   "execution_count": 5,
   "metadata": {},
   "outputs": [
    {
     "name": "stdout",
     "output_type": "stream",
     "text": [
      "<class 'pandas.core.frame.DataFrame'>\n",
      "Index: 10000 entries, 0 to 10000\n",
      "Data columns (total 13 columns):\n",
      " #   Column           Non-Null Count  Dtype  \n",
      "---  ------           --------------  -----  \n",
      " 0   CustomerId       10000 non-null  int64  \n",
      " 1   Balance          10000 non-null  object \n",
      " 2   NumOfProducts    10000 non-null  int64  \n",
      " 3   HasCrCard        10000 non-null  object \n",
      " 4   Tenure           10000 non-null  int64  \n",
      " 5   IsActiveMember   10000 non-null  object \n",
      " 6   Exited           10000 non-null  int64  \n",
      " 7   Surname          9997 non-null   object \n",
      " 8   CreditScore      10000 non-null  int64  \n",
      " 9   Geography        10000 non-null  object \n",
      " 10  Gender           10000 non-null  object \n",
      " 11  Age              9997 non-null   float64\n",
      " 12  EstimatedSalary  10000 non-null  object \n",
      "dtypes: float64(1), int64(5), object(7)\n",
      "memory usage: 1.1+ MB\n"
     ]
    }
   ],
   "source": [
    "bank_churn_df = bank_churn_df.drop(\"Tenure_y\",axis=1).rename({\"Tenure_x\":\"Tenure\"},axis=1).drop_duplicates()\n",
    "bank_churn_df.info()"
   ]
  },
  {
   "cell_type": "code",
   "execution_count": 6,
   "metadata": {},
   "outputs": [
    {
     "data": {
      "text/html": [
       "<div>\n",
       "<style scoped>\n",
       "    .dataframe tbody tr th:only-of-type {\n",
       "        vertical-align: middle;\n",
       "    }\n",
       "\n",
       "    .dataframe tbody tr th {\n",
       "        vertical-align: top;\n",
       "    }\n",
       "\n",
       "    .dataframe thead th {\n",
       "        text-align: right;\n",
       "    }\n",
       "</style>\n",
       "<table border=\"1\" class=\"dataframe\">\n",
       "  <thead>\n",
       "    <tr style=\"text-align: right;\">\n",
       "      <th></th>\n",
       "      <th>CustomerId</th>\n",
       "      <th>Balance</th>\n",
       "      <th>NumOfProducts</th>\n",
       "      <th>HasCrCard</th>\n",
       "      <th>Tenure</th>\n",
       "      <th>IsActiveMember</th>\n",
       "      <th>Exited</th>\n",
       "      <th>Surname</th>\n",
       "      <th>CreditScore</th>\n",
       "      <th>Geography</th>\n",
       "      <th>Gender</th>\n",
       "      <th>Age</th>\n",
       "      <th>EstimatedSalary</th>\n",
       "    </tr>\n",
       "  </thead>\n",
       "  <tbody>\n",
       "    <tr>\n",
       "      <th>0</th>\n",
       "      <td>15634602</td>\n",
       "      <td>€0.0</td>\n",
       "      <td>1</td>\n",
       "      <td>Yes</td>\n",
       "      <td>2</td>\n",
       "      <td>Yes</td>\n",
       "      <td>1</td>\n",
       "      <td>Hargrave</td>\n",
       "      <td>619</td>\n",
       "      <td>FRA</td>\n",
       "      <td>Female</td>\n",
       "      <td>42.0</td>\n",
       "      <td>€101348.88</td>\n",
       "    </tr>\n",
       "    <tr>\n",
       "      <th>2</th>\n",
       "      <td>15647311</td>\n",
       "      <td>€83807.86</td>\n",
       "      <td>1</td>\n",
       "      <td>Yes</td>\n",
       "      <td>1</td>\n",
       "      <td>Yes</td>\n",
       "      <td>0</td>\n",
       "      <td>Hill</td>\n",
       "      <td>608</td>\n",
       "      <td>Spain</td>\n",
       "      <td>Female</td>\n",
       "      <td>41.0</td>\n",
       "      <td>€112542.58</td>\n",
       "    </tr>\n",
       "    <tr>\n",
       "      <th>3</th>\n",
       "      <td>15619304</td>\n",
       "      <td>€159660.8</td>\n",
       "      <td>3</td>\n",
       "      <td>No</td>\n",
       "      <td>8</td>\n",
       "      <td>No</td>\n",
       "      <td>1</td>\n",
       "      <td>Onio</td>\n",
       "      <td>502</td>\n",
       "      <td>French</td>\n",
       "      <td>Female</td>\n",
       "      <td>42.0</td>\n",
       "      <td>€113931.57</td>\n",
       "    </tr>\n",
       "    <tr>\n",
       "      <th>4</th>\n",
       "      <td>15701354</td>\n",
       "      <td>€0.0</td>\n",
       "      <td>2</td>\n",
       "      <td>No</td>\n",
       "      <td>1</td>\n",
       "      <td>No</td>\n",
       "      <td>0</td>\n",
       "      <td>Boni</td>\n",
       "      <td>699</td>\n",
       "      <td>FRA</td>\n",
       "      <td>Female</td>\n",
       "      <td>39.0</td>\n",
       "      <td>€93826.63</td>\n",
       "    </tr>\n",
       "    <tr>\n",
       "      <th>5</th>\n",
       "      <td>15737888</td>\n",
       "      <td>€125510.82</td>\n",
       "      <td>1</td>\n",
       "      <td>Yes</td>\n",
       "      <td>2</td>\n",
       "      <td>Yes</td>\n",
       "      <td>0</td>\n",
       "      <td>Mitchell</td>\n",
       "      <td>850</td>\n",
       "      <td>Spain</td>\n",
       "      <td>Female</td>\n",
       "      <td>43.0</td>\n",
       "      <td>€79084.1</td>\n",
       "    </tr>\n",
       "  </tbody>\n",
       "</table>\n",
       "</div>"
      ],
      "text/plain": [
       "   CustomerId     Balance  NumOfProducts HasCrCard  Tenure IsActiveMember  \\\n",
       "0    15634602        €0.0              1       Yes       2            Yes   \n",
       "2    15647311   €83807.86              1       Yes       1            Yes   \n",
       "3    15619304   €159660.8              3        No       8             No   \n",
       "4    15701354        €0.0              2        No       1             No   \n",
       "5    15737888  €125510.82              1       Yes       2            Yes   \n",
       "\n",
       "   Exited   Surname  CreditScore Geography  Gender   Age EstimatedSalary  \n",
       "0       1  Hargrave          619       FRA  Female  42.0      €101348.88  \n",
       "2       0      Hill          608     Spain  Female  41.0      €112542.58  \n",
       "3       1      Onio          502    French  Female  42.0      €113931.57  \n",
       "4       0      Boni          699       FRA  Female  39.0       €93826.63  \n",
       "5       0  Mitchell          850     Spain  Female  43.0        €79084.1  "
      ]
     },
     "execution_count": 6,
     "metadata": {},
     "output_type": "execute_result"
    }
   ],
   "source": [
    "bank_churn_df.head()"
   ]
  },
  {
   "cell_type": "code",
   "execution_count": 7,
   "metadata": {},
   "outputs": [],
   "source": [
    "bank_churn_df[\"Balance\"] = bank_churn_df[\"Balance\"].str.replace(\"€\",\"\").astype(\"float\")\n",
    "bank_churn_df[\"EstimatedSalary\"] = bank_churn_df[\"EstimatedSalary\"].str.replace(\"€\",\"\").astype(\"float\")"
   ]
  },
  {
   "cell_type": "code",
   "execution_count": 8,
   "metadata": {},
   "outputs": [],
   "source": [
    "bank_churn_df.to_csv(\"Bank Customer Churn Data/Prepared Data/bank_churn_df.csv\")"
   ]
  }
 ],
 "metadata": {
  "kernelspec": {
   "display_name": "Python 3",
   "language": "python",
   "name": "python3"
  },
  "language_info": {
   "codemirror_mode": {
    "name": "ipython",
    "version": 3
   },
   "file_extension": ".py",
   "mimetype": "text/x-python",
   "name": "python",
   "nbconvert_exporter": "python",
   "pygments_lexer": "ipython3",
   "version": "3.11.4"
  }
 },
 "nbformat": 4,
 "nbformat_minor": 2
}
